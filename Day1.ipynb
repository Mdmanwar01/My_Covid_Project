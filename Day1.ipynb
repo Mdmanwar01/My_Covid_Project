{
 "cells": [
  {
   "cell_type": "code",
   "execution_count": 6,
   "metadata": {},
   "outputs": [],
   "source": [
    "district = \"Gwalior\"\n",
    "infected_till_date = 1234\n",
    "infected_on_10_06_2020 = 12\n",
    "infected_on_11_06_2020 = 2\n",
    "infected_on_12_06_2020 = 13"
   ]
  },
  {
   "cell_type": "code",
   "execution_count": 7,
   "metadata": {},
   "outputs": [],
   "source": [
    "percentage_change = ((infected_on_12_06_2020 - infected_on_10_06_2020)/infected_on_12_06_2020)*100"
   ]
  },
  {
   "cell_type": "code",
   "execution_count": 8,
   "metadata": {},
   "outputs": [
    {
     "name": "stdout",
     "output_type": "stream",
     "text": [
      "District =  Gwalior\n",
      "Infected Till Date =  1234\n",
      "Infected On 11_06_2020 =  2\n",
      "Infected On 12_06_2020 =  13\n",
      "Percentage change in infected given last 3 days =  7.6923076923076925\n"
     ]
    }
   ],
   "source": [
    "print(\"District = \", district)\n",
    "print(\"Infected till Date = \", infected_till_date)\n",
    "print(\"Infected on 11_06_2020 = \", infected_on_11_06_2020)\n",
    "print(\"Infected on 12_06_2020 = \", infected_on_12_06_2020)\n",
    "print(\"Percentage change in infected given last 3 days are = \", percentage_change)"
   ]
  },
  {
   "cell_type": "code",
   "execution_count": null,
   "metadata": {},
   "outputs": [],
   "source": []
  }
 ],
 "metadata": {
  "kernelspec": {
   "display_name": "Python 3",
   "language": "python",
   "name": "python3"
  },
  "language_info": {
   "codemirror_mode": {
    "name": "ipython",
    "version": 3
   },
   "file_extension": ".py",
   "mimetype": "text/x-python",
   "name": "python",
   "nbconvert_exporter": "python",
   "pygments_lexer": "ipython3",
   "version": "3.8.3"
  }
 },
 "nbformat": 4,
 "nbformat_minor": 4
}
