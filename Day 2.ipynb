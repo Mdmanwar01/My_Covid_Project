{
 "cells": [
  {
   "cell_type": "code",
   "execution_count": 6,
   "metadata": {},
   "outputs": [],
   "source": [
    "LIST_1_Name_of_States_of_India=[\"Andaman and Nicobar\",\n",
    "\"Andhra Pradesh\",\n",
    "\"Arunachal Pradesh\",\n",
    "\"Assam\",\n",
    "\"Bihar\",\n",
    "\"Chandigarh\",\n",
    "\"Chhattisgarh\",\n",
    "\"Dadra and Nagar Haveli\",\n",
    "\"Dadra and Nagar Haveli\",\n",
    "\"Delhi\",\n",
    "\"Goa\",\n",
    "\"Gujarat\",\n",
    "\"Haryana\",\n",
    "\"Himachal Pradesh\",\n",
    "\"Jammu and Kashmir\",\n",
    "\"Jharkhand\",\n",
    "\"Karnataka\",\n",
    "\"Kerala\",\n",
    "\"Ladakh\",\n",
    "\"Lakshadweep\",\n",
    "\"Madhya Pradesh\",\n",
    "\"Maharashtra\",\n",
    "\"Manipur\",\n",
    "\"Meghalaya\",\n",
    "\"Mizoram\",\n",
    "\"Nagaland\",\n",
    "\"Odisha\",\n",
    "\"Puducherry\",\n",
    "\"Punjab\",\n",
    "\"Rajasthan\",\n",
    "\"Sikkim\",\n",
    "\"Tamil Nadu\",\n",
    "\"Telengana\",\n",
    "\"Tripura\",\n",
    "\"Uttar Pradesh\",\n",
    "\"Uttarakhand\",\n",
    "\"West Bengal\",\n",
    "]"
   ]
  },
  {
   "cell_type": "code",
   "execution_count": 7,
   "metadata": {},
   "outputs": [
    {
     "ename": "SyntaxError",
     "evalue": "invalid syntax (<ipython-input-7-b5881343add5>, line 1)",
     "output_type": "error",
     "traceback": [
      "\u001b[1;36m  File \u001b[1;32m\"<ipython-input-7-b5881343add5>\"\u001b[1;36m, line \u001b[1;32m1\u001b[0m\n\u001b[1;33m    : LIST_1_Name_of_States_of_India[36]\u001b[0m\n\u001b[1;37m    ^\u001b[0m\n\u001b[1;31mSyntaxError\u001b[0m\u001b[1;31m:\u001b[0m invalid syntax\n"
     ]
    }
   ],
   "source": [
    "LIST_1_Name_of_States_of_India[36]"
   ]
  },
  {
   "cell_type": "code",
   "execution_count": null,
   "metadata": {},
   "outputs": [],
   "source": [
    "LIST_2_Number_of_infected_numbers_in_list_1=[100,\n",
    "15252,\n",
    "195,\n",
    "8582,\n",
    "10249,\n",
    "446,\n",
    "2940,\n",
    "215,\n",
    "215,\n",
    "89802,\n",
    "1387,\n",
    "33232,\n",
    "14941,\n",
    "979,\n",
    "7695,\n",
    "2521,\n",
    "16514,\n",
    "4593,\n",
    "990,\n",
    "1,\n",
    "13861,\n",
    "180298,\n",
    "1260,\n",
    "52,\n",
    "160,\n",
    "459,\n",
    "7316,\n",
    "714,\n",
    "5668,\n",
    "18312,\n",
    "101,\n",
    "94049,\n",
    "17357,\n",
    "1396,\n",
    "24056,\n",
    "2947,\n",
    "19170,\n",
    "]"
   ]
  },
  {
   "cell_type": "code",
   "execution_count": null,
   "metadata": {},
   "outputs": [],
   "source": [
    "for i in range (0,37):\n",
    "    print(\"{} has {} number of infected persons\".format(LIST_1_Name_of_\n",
    "States_of_India[i], LIST_2_Number_of_infected_numbers_in_list_1[i]))\n"
   ]
  },
  {
   "cell_type": "code",
   "execution_count": null,
   "metadata": {},
   "outputs": [],
   "source": [
    "LIST_3_Numbers_in_Recovered=[50,\n",
    "6988,\n",
    "66,\n",
    "5851,\n",
    "7946,\n",
    "367,\n",
    "2303,\n",
    "86,\n",
    "86,\n",
    "59992,\n",
    "670,\n",
    "24030,\n",
    "10499,\n",
    "614,\n",
    "4856,\n",
    "1931,\n",
    "8063,\n",
    "2439,\n",
    "694,\n",
    "0,\n",
    "10655,\n",
    "93154,\n",
    "579,\n",
    "42,\n",
    "123,\n",
    "168,\n",
    "5353,\n",
    "272,\n",
    "3867,\n",
    "14574,\n",
    "53,\n",
    "52926,\n",
    "8082,\n",
    "1093,\n",
    "16629,\n",
    "2317,\n",
    "12528,\n",
    "]"
   ]
  },
  {
   "cell_type": "code",
   "execution_count": null,
   "metadata": {},
   "outputs": [],
   "source": [
    "print(\"(Name_of_States_of_India, Numbers_in_Recovered)\")\n",
    "for i in range(0,37):\n",
    "    LIST_4_Numbers_in_Recovered_In_Each_State=[(LIST_1_Name_of_States_o\n",
    "f_India[i],LIST_3_Numbers_in_Recovered[i])]\n",
    "    for i in LIST_4_Numbers_in_Recovered_In_Each_State:\n",
    "        print(i)\n"
   ]
  },
  {
   "cell_type": "code",
   "execution_count": null,
   "metadata": {},
   "outputs": [],
   "source": [
    "for i in range(0,37):\n",
    "    STATE_INFECTED = {LIST_1_Name_of_States_of_India[i]:LIST_2_Number_o\n",
    "f_infected_numbers_in_list_1[i]}\n",
    "    for item in STATE_INFECTED:\n",
    "        print(item)\n",
    "        STATE_INFECTED.items()"
   ]
  },
  {
   "cell_type": "code",
   "execution_count": null,
   "metadata": {},
   "outputs": [],
   "source": [
    "STATE_INFECTED.items()"
   ]
  },
  {
   "cell_type": "code",
   "execution_count": null,
   "metadata": {},
   "outputs": [],
   "source": [
    "for k,v in STATE_INFECTED.items():\n",
    "    print(k,v)"
   ]
  },
  {
   "cell_type": "code",
   "execution_count": null,
   "metadata": {},
   "outputs": [],
   "source": [
    "#Why for loop is not working for dictionary, only the last value is printed.LI"
   ]
  },
  {
   "cell_type": "code",
   "execution_count": null,
   "metadata": {},
   "outputs": [],
   "source": [
    "STATE_INFECTED_DICTIONARY={'Andaman and Nicobar':100,\n",
    "'Andhra Pradesh':15252,\n",
    "'Arunachal Pradesh':195,\n",
    "'Assam':8582,\n",
    "'Bihar':10249,\n",
    "'Chandigarh':446,\n",
    "'Chhattisgarh':2940,\n",
    "'Dadra and Nagar Haveli':215,\n",
    "'Dadra and Nagar Haveli':215,\n",
    "'Delhi':89802,\n",
    "'Goa':1387,\n",
    "'Gujarat':33232,\n",
    "'Haryana':14941,\n",
    "'Himachal Pradesh':979,\n",
    "'Jammu and Kashmir':7695,\n",
    "'Jharkhand':2521,\n",
    "'Karnataka':16514,\n",
    "'Kerala':4593,\n",
    "'Ladakh':990,\n",
    "'Lakshadweep':1,\n",
    "'Madhya Pradesh':13861,\n",
    "'Maharashtra':180298,\n",
    "'Manipur':1260,\n",
    "'Meghalaya':52,\n",
    "'Mizoram':160,\n",
    "'Nagaland':459,\n",
    "'Odisha':7316,\n",
    "'Puducherry':714,\n",
    "'Punjab':5668,\n",
    "'Rajasthan':18312,\n",
    "'Sikkim':101,\n",
    "'Tamil Nadu':94049,\n",
    "'Telengana':17357,\n",
    "'Tripura':1396,\n",
    "'Uttar Pradesh':24056,\n",
    "'Uttarakhand':2947,\n",
    "'West Bengal':19170,\n",
    "}"
   ]
  },
  {
   "cell_type": "code",
   "execution_count": null,
   "metadata": {},
   "outputs": [],
   "source": [
    "STATE_INFECTED_DICTIONARY.items()"
   ]
  },
  {
   "cell_type": "code",
   "execution_count": null,
   "metadata": {},
   "outputs": [],
   "source": [
    "for k,v in STATE_INFECTED_DICTIONARY.items():\n",
    "    print(k,v)"
   ]
  },
  {
   "cell_type": "code",
   "execution_count": null,
   "metadata": {},
   "outputs": [],
   "source": [
    "LIST_5_NUMBER_OF_DEATHS\n",
    "=\n",
    "[\n",
    "0\n",
    ",\n",
    "193\n",
    ",\n",
    "1\n",
    ",\n",
    "12\n",
    ",\n",
    "70\n",
    ",\n",
    "6\n",
    ",\n",
    "14\n",
    ",\n",
    "0\n",
    ",\n",
    "0\n",
    ",\n",
    "2803\n",
    ",\n",
    "4\n",
    ",\n",
    "1867\n",
    ",\n",
    "240\n",
    ",\n",
    "10\n",
    ",\n",
    "105\n",
    ",\n",
    "15\n",
    ",\n",
    "253\n",
    ",\n",
    "24\n",
    ",\n",
    "1\n",
    ",\n",
    "0\n",
    ",\n",
    "581\n",
    ",\n",
    "8053\n",
    ",\n",
    "0\n",
    ",\n",
    "1\n",
    ",\n",
    "0\n",
    ",\n",
    "0\n",
    ",\n",
    "25,\n",
    "12,\n",
    "149,\n",
    "421,\n",
    "0,\n",
    "1264,\n",
    "267,\n",
    "1,\n",
    "718,\n",
    "41,\n",
    "683,\n",
    "]"
   ]
  },
  {
   "cell_type": "code",
   "execution_count": null,
   "metadata": {},
   "outputs": [],
   "source": [
    "print(\"(Name_of_States_of_India, Numbers_in_Recovered, Number_of_death\n",
    "s)\")\n",
    "for i in range(0,37):\n",
    "    LIST_6_STATE_RECOVRED_DEATHS=[(LIST_1_Name_of_States_of_India[i],LI\n",
    "ST_3_Numbers_in_Recovered[i],LIST_5_NUMBER_OF_DEATHS[i])]\n",
    "    for i in (LIST_6_STATE_RECOVRED_DEATHS):\n",
    "        print(i)\n"
   ]
  },
  {
   "cell_type": "code",
   "execution_count": null,
   "metadata": {},
   "outputs": [],
   "source": [
    "def ifr(infected,deaths):\n",
    "    ifr=(deaths/infected)*100\n",
    "    print(\"The IFR ={}%\".format(ifr))"
   ]
  },
  {
   "cell_type": "code",
   "execution_count": 8,
   "metadata": {},
   "outputs": [
    {
     "ename": "SyntaxError",
     "evalue": "invalid syntax (<ipython-input-8-983e1548c4f7>, line 4)",
     "output_type": "error",
     "traceback": [
      "\u001b[1;36m  File \u001b[1;32m\"<ipython-input-8-983e1548c4f7>\"\u001b[1;36m, line \u001b[1;32m4\u001b[0m\n\u001b[1;33m    _DEATHS[i])\u001b[0m\n\u001b[1;37m    ^\u001b[0m\n\u001b[1;31mSyntaxError\u001b[0m\u001b[1;31m:\u001b[0m invalid syntax\n"
     ]
    }
   ],
   "source": [
    "for i in range (0,37):\n",
    "    print(LIST_1_Name_of_States_of_India[i])\n",
    "    ifr(LIST_2_Number_of_infected_numbers_in_list_1[i],LIST_5_NUMBER_OF\n",
    "_DEATHS[i])\n"
   ]
  },
  {
   "cell_type": "code",
   "execution_count": null,
   "metadata": {},
   "outputs": [],
   "source": [
    "TOTAL_POPULATION_PER_STATE\n",
    "=\n",
    "[417036\n",
    ",\n",
    "53903393\n",
    ",\n",
    "1570458\n",
    ",\n",
    "35607039\n",
    ",\n",
    "124799926\n",
    ",\n",
    "1158473\n",
    ",\n",
    "29436231\n",
    ",\n",
    "615724\n",
    ",\n",
    "615724\n",
    ",\n",
    "18710922\n",
    ",\n",
    "1586250\n",
    ",\n",
    "63872399\n",
    ",\n",
    " 28204692,\n",
    "7451955,\n",
    "1371360350,\n",
    "13606320,\n",
    "38593948,\n",
    "67562686,\n",
    "35699443,\n",
    "289023,\n",
    "73183,\n",
    "85358965,\n",
    "123144223,\n",
    "3091545,\n",
    "3366710,\n",
    "1239244,\n",
    "2249695,\n",
    "46356334,\n",
    "1413542,\n",
    "30141373,\n",
    "81032689,\n",
    "690251,\n",
    "77841267,\n",
    "39362732,\n",
    "4169794,\n",
    "237882725,\n",
    "11250858,\n",
    "99609303,\n",
    "]"
   ]
  },
  {
   "cell_type": "code",
   "execution_count": null,
   "metadata": {},
   "outputs": [],
   "source": [
    "def CMR(deaths,total_poppulation):\n",
    "    CMR=(deaths/total_poppulation)*1000\n",
    "    print(\"The Crude Mortality Rate ={}%\".format(CMR))"
   ]
  },
  {
   "cell_type": "code",
   "execution_count": null,
   "metadata": {},
   "outputs": [],
   "source": [
    "for i in range (0,37):\n",
    "    print(LIST_1_Name_of_States_of_India[i])\n",
    "    CMR(LIST_5_NUMBER_OF_DEATHS[i],TOTAL_POPULATION_PER_STATE[i])\n"
   ]
  },
  {
   "cell_type": "code",
   "execution_count": null,
   "metadata": {},
   "outputs": [],
   "source": [
    "TOTAL_POPULATION_OF_INDIA=1371360350\n",
    "TOTAL_DEATHS_COVID_19=17836\n",
    "print(\"INDIA_COVID_19\")\n",
    "CMR(TOTAL_DEATHS_COVID_19,TOTAL_POPULATION_OF_INDIA)"
   ]
  },
  {
   "cell_type": "code",
   "execution_count": null,
   "metadata": {},
   "outputs": [],
   "source": []
  }
 ],
 "metadata": {
  "kernelspec": {
   "display_name": "Python 3",
   "language": "python",
   "name": "python3"
  },
  "language_info": {
   "codemirror_mode": {
    "name": "ipython",
    "version": 3
   },
   "file_extension": ".py",
   "mimetype": "text/x-python",
   "name": "python",
   "nbconvert_exporter": "python",
   "pygments_lexer": "ipython3",
   "version": "3.8.3"
  }
 },
 "nbformat": 4,
 "nbformat_minor": 4
}
